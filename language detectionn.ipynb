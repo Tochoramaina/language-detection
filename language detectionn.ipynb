{
 "cells": [
  {
   "cell_type": "code",
   "execution_count": 90,
   "metadata": {},
   "outputs": [],
   "source": [
    "#importing necessary pyphon libraries\n",
    "import pandas as pd\n",
    "import numpy as np\n"
   ]
  },
  {
   "cell_type": "code",
   "execution_count": 91,
   "metadata": {},
   "outputs": [
    {
     "data": {
      "text/html": [
       "<div>\n",
       "<style scoped>\n",
       "    .dataframe tbody tr th:only-of-type {\n",
       "        vertical-align: middle;\n",
       "    }\n",
       "\n",
       "    .dataframe tbody tr th {\n",
       "        vertical-align: top;\n",
       "    }\n",
       "\n",
       "    .dataframe thead th {\n",
       "        text-align: right;\n",
       "    }\n",
       "</style>\n",
       "<table border=\"1\" class=\"dataframe\">\n",
       "  <thead>\n",
       "    <tr style=\"text-align: right;\">\n",
       "      <th></th>\n",
       "      <th>Text</th>\n",
       "      <th>language</th>\n",
       "    </tr>\n",
       "  </thead>\n",
       "  <tbody>\n",
       "    <tr>\n",
       "      <th>0</th>\n",
       "      <td>klement gottwaldi surnukeha palsameeriti ning ...</td>\n",
       "      <td>Estonian</td>\n",
       "    </tr>\n",
       "    <tr>\n",
       "      <th>1</th>\n",
       "      <td>sebes joseph pereira thomas  på eng the jesuit...</td>\n",
       "      <td>Swedish</td>\n",
       "    </tr>\n",
       "    <tr>\n",
       "      <th>2</th>\n",
       "      <td>ถนนเจริญกรุง อักษรโรมัน thanon charoen krung เ...</td>\n",
       "      <td>Thai</td>\n",
       "    </tr>\n",
       "    <tr>\n",
       "      <th>3</th>\n",
       "      <td>விசாகப்பட்டினம் தமிழ்ச்சங்கத்தை இந்துப் பத்திர...</td>\n",
       "      <td>Tamil</td>\n",
       "    </tr>\n",
       "    <tr>\n",
       "      <th>4</th>\n",
       "      <td>de spons behoort tot het geslacht haliclona en...</td>\n",
       "      <td>Dutch</td>\n",
       "    </tr>\n",
       "  </tbody>\n",
       "</table>\n",
       "</div>"
      ],
      "text/plain": [
       "                                                Text  language\n",
       "0  klement gottwaldi surnukeha palsameeriti ning ...  Estonian\n",
       "1  sebes joseph pereira thomas  på eng the jesuit...   Swedish\n",
       "2  ถนนเจริญกรุง อักษรโรมัน thanon charoen krung เ...      Thai\n",
       "3  விசாகப்பட்டினம் தமிழ்ச்சங்கத்தை இந்துப் பத்திர...     Tamil\n",
       "4  de spons behoort tot het geslacht haliclona en...     Dutch"
      ]
     },
     "execution_count": 91,
     "metadata": {},
     "output_type": "execute_result"
    }
   ],
   "source": [
    "# uploading data from  a local directory\n",
    "df = pd.read_csv(r'C:/Users/test/Documents/tochora/dd/language_detection.csv')\n",
    "df.head()"
   ]
  },
  {
   "cell_type": "code",
   "execution_count": 92,
   "metadata": {},
   "outputs": [
    {
     "data": {
      "text/plain": [
       "(22000, 2)"
      ]
     },
     "execution_count": 92,
     "metadata": {},
     "output_type": "execute_result"
    }
   ],
   "source": [
    "#shape of our dataset\n",
    "df.shape\n",
    "# our dataset has 22000 rows and 2 columns"
   ]
  },
  {
   "cell_type": "code",
   "execution_count": 93,
   "metadata": {},
   "outputs": [
    {
     "data": {
      "text/plain": [
       "haec commentatio automatice praeparata res astronomicas colligit excerptas e pagina [] sitús small-body database quem elaboraverunt nasa et jpl apud institutum technologiae californiense                                                                                                                                                                                                                                                                                                                                                                                                                                                                                                                                                                 48\n",
       "இக்கோயில் முதன்மைத் திருக்கோயில் என்ற வகைப்பாட்டில் இந்து அறநிலையத்துறையின் கட்டுப்பாட்டில் உள்ளது பரம்பரை அல்லாத அறங்காவலர் அமைப்பால் நிர்வகிக்கப்படுகிறது                                                                                                                                                                                                                                                                                                                                                                                                                                                                                                                                                                                                17\n",
       "bisby fa roskov yr orrell tm nicolson d paglinawan le bailly n kirk pm bourgoin t baillargeon g ouvrard d red  \"species   itis catalogue of life  annual checklist\" species  reading uk diakses pada  september                                                                                                                                                                                                                                                                                                                                                                                                                                                                                                                                            12\n",
       "seperti asteroid pada umumnya asteroid ini terbentuk dari nebula matahari primordial sebagai pecahan planetisimal sesuatu di nebula matahari muda yang tidak cukup besar untuk berubah menjadi planet                                                                                                                                                                                                                                                                                                                                                                                                                                                                                                                                                       7\n",
       "lévolution du nombre dhabitants est connue à travers les recensements de la population effectués dans la commune depuis  à partir de  les populations légales des communes sont publiées annuellement par linsee le recensement repose désormais sur une collecte dinformation annuelle concernant successivement tous les territoires communaux au cours dune période de cinq ans pour les communes de moins de   habitants une enquête de recensement portant sur toute la population est réalisée tous les cinq ans les populations légales des années intermédiaires étant quant à elles estimées par interpolation ou extrapolation pour la commune le premier recensement exhaustif entrant dans le cadre du nouveau dispositif a été réalisé en      7\n",
       "Name: Text, dtype: int64"
      ]
     },
     "execution_count": 93,
     "metadata": {},
     "output_type": "execute_result"
    }
   ],
   "source": [
    "# Top five texts in our dataset\n",
    "df['Text'].value_counts().head(5)"
   ]
  },
  {
   "cell_type": "code",
   "execution_count": 94,
   "metadata": {},
   "outputs": [
    {
     "data": {
      "text/plain": [
       "Estonian    1000\n",
       "Swedish     1000\n",
       "English     1000\n",
       "Russian     1000\n",
       "Romanian    1000\n",
       "Persian     1000\n",
       "Pushto      1000\n",
       "Name: language, dtype: int64"
      ]
     },
     "execution_count": 94,
     "metadata": {},
     "output_type": "execute_result"
    }
   ],
   "source": [
    "# \n",
    "df['language'].value_counts().head(7)#index[:7]"
   ]
  },
  {
   "cell_type": "code",
   "execution_count": 95,
   "metadata": {},
   "outputs": [
    {
     "data": {
      "text/html": [
       "<div>\n",
       "<style scoped>\n",
       "    .dataframe tbody tr th:only-of-type {\n",
       "        vertical-align: middle;\n",
       "    }\n",
       "\n",
       "    .dataframe tbody tr th {\n",
       "        vertical-align: top;\n",
       "    }\n",
       "\n",
       "    .dataframe thead th {\n",
       "        text-align: right;\n",
       "    }\n",
       "</style>\n",
       "<table border=\"1\" class=\"dataframe\">\n",
       "  <thead>\n",
       "    <tr style=\"text-align: right;\">\n",
       "      <th></th>\n",
       "      <th>Text</th>\n",
       "      <th>language</th>\n",
       "    </tr>\n",
       "  </thead>\n",
       "  <tbody>\n",
       "    <tr>\n",
       "      <th>0</th>\n",
       "      <td>klement gottwaldi surnukeha palsameeriti ning ...</td>\n",
       "      <td>estonian</td>\n",
       "    </tr>\n",
       "    <tr>\n",
       "      <th>1</th>\n",
       "      <td>sebes joseph pereira thomas  på eng the jesuit...</td>\n",
       "      <td>swedish</td>\n",
       "    </tr>\n",
       "    <tr>\n",
       "      <th>2</th>\n",
       "      <td>ถนนเจริญกรุง อักษรโรมัน thanon charoen krung เ...</td>\n",
       "      <td>thai</td>\n",
       "    </tr>\n",
       "    <tr>\n",
       "      <th>3</th>\n",
       "      <td>விசாகப்பட்டினம் தமிழ்ச்சங்கத்தை இந்துப் பத்திர...</td>\n",
       "      <td>tamil</td>\n",
       "    </tr>\n",
       "    <tr>\n",
       "      <th>4</th>\n",
       "      <td>de spons behoort tot het geslacht haliclona en...</td>\n",
       "      <td>dutch</td>\n",
       "    </tr>\n",
       "  </tbody>\n",
       "</table>\n",
       "</div>"
      ],
      "text/plain": [
       "                                                Text  language\n",
       "0  klement gottwaldi surnukeha palsameeriti ning ...  estonian\n",
       "1  sebes joseph pereira thomas  på eng the jesuit...   swedish\n",
       "2  ถนนเจริญกรุง อักษรโรมัน thanon charoen krung เ...      thai\n",
       "3  விசாகப்பட்டினம் தமிழ்ச்சங்கத்தை இந்துப் பத்திர...     tamil\n",
       "4  de spons behoort tot het geslacht haliclona en...     dutch"
      ]
     },
     "execution_count": 95,
     "metadata": {},
     "output_type": "execute_result"
    }
   ],
   "source": [
    "# converting  words in text from proper case to lower case\n",
    "df['language'] = df['language'].apply(lambda x: x.lower())\n",
    "df.head()"
   ]
  },
  {
   "cell_type": "code",
   "execution_count": 96,
   "metadata": {},
   "outputs": [],
   "source": [
    "# splitting our data into traning and testing data\n",
    "from sklearn.model_selection import train_test_split\n",
    "x_train, x_test, y_train, y_test = train_test_split(df['Text'], df['language'], test_size=0.32140000001, random_state=25551)"
   ]
  },
  {
   "cell_type": "markdown",
   "metadata": {},
   "source": [
    "Bag of words"
   ]
  },
  {
   "cell_type": "code",
   "execution_count": 97,
   "metadata": {},
   "outputs": [],
   "source": [
    "\n",
    "from sklearn.feature_extraction.text import  CountVectorizer, TfidfTransformer\n",
    "# applying countvectorizer to map frequent words while it using stopwords to remove words like not,are and other related words\n",
    "cv = CountVectorizer(stop_words='english')\n",
    "x_traincv = cv.fit_transform(x_train)\n",
    "x_testcv = cv.transform(x_test)\n",
    "tfid = TfidfTransformer()\n",
    "# applying Tfid Transformer to add weight to those words that are important in our text \n",
    "x_trainTf = tfid.fit_transform(x_traincv)\n"
   ]
  },
  {
   "cell_type": "code",
   "execution_count": 98,
   "metadata": {},
   "outputs": [
    {
     "name": "stdout",
     "output_type": "stream",
     "text": [
      "0.9691698486776976\n"
     ]
    }
   ],
   "source": [
    "#modelling our data\n",
    "from sklearn.linear_model import RidgeClassifier\n",
    "rf = RidgeClassifier()\n",
    "# fitiing our model\n",
    "rf.fit(x_trainTf, y_train)\n",
    "accuracy = rf.score(x_testcv, y_test)\n",
    "print(accuracy)"
   ]
  },
  {
   "cell_type": "markdown",
   "metadata": {},
   "source": [
    "our model has an accuracy of 97%"
   ]
  },
  {
   "cell_type": "code",
   "execution_count": 99,
   "metadata": {},
   "outputs": [
    {
     "name": "stdout",
     "output_type": "stream",
     "text": [
      "This language is english\n"
     ]
    }
   ],
   "source": [
    "# using our model to predict the language of the respective text in question\n",
    "text = \"\"\"this kids have been living in this village for almost a decade\"\"\"\n",
    "text = [text]\n",
    "textt = cv.transform(text)\n",
    "pred = rf.predict(textt)\n",
    "print(f'This language is {pred[0]}')"
   ]
  },
  {
   "cell_type": "code",
   "execution_count": 100,
   "metadata": {},
   "outputs": [
    {
     "name": "stdout",
     "output_type": "stream",
     "text": [
      " This indonesian language\n"
     ]
    }
   ],
   "source": [
    "# using our model to forecast what language this text is?\n",
    "text = \"\"\"saya tak faham di mana tandas\"\"\"\n",
    "text = ['text']\n",
    "textt = cv.transform(text)\n",
    "pred = rf.predict(textt)\n",
    "print(f\" This {pred[0]} language\")"
   ]
  }
 ],
 "metadata": {
  "kernelspec": {
   "display_name": "Python 3.9.13 64-bit (windows store)",
   "language": "python",
   "name": "python3"
  },
  "language_info": {
   "codemirror_mode": {
    "name": "ipython",
    "version": 3
   },
   "file_extension": ".py",
   "mimetype": "text/x-python",
   "name": "python",
   "nbconvert_exporter": "python",
   "pygments_lexer": "ipython3",
   "version": "3.9.13"
  },
  "orig_nbformat": 4,
  "vscode": {
   "interpreter": {
    "hash": "471942890235b960afcc032a25a8e5700c7132c052e392924afb61f08e63da55"
   }
  }
 },
 "nbformat": 4,
 "nbformat_minor": 2
}
